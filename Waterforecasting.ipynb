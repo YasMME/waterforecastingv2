{
 "cells": [
  {
   "cell_type": "code",
   "execution_count": 1,
   "metadata": {},
   "outputs": [],
   "source": [
    "# PLAN: Develop a Model to Predict by Meter\n",
    "# After, combine predictions for all meters in a borough to get prediction for borough.\n",
    "# Compare these predictions to predictions by old LSTM using only borough and month. \n",
    "# TO DO: Convert old LSTM to use updated keras."
   ]
  },
  {
   "cell_type": "code",
   "execution_count": 2,
   "metadata": {},
   "outputs": [],
   "source": [
    "#read in water data from CSV file\n",
    "import numpy as np\n",
    "import pandas as pd\n",
    "from dateutil.parser import parse\n",
    "import datetime\n",
    "\n",
    "def data_in():\n",
    "    data = pd.read_csv('Water_Consumption_And_Cost__2013_-_2020_.csv',\n",
    "            header=0)\n",
    "\n",
    "    #filter based on days of service\n",
    "    data = data.loc[(data['# days'] > 26) & (data['# days'] < 34)]    \n",
    "    \n",
    "    return data"
   ]
  },
  {
   "cell_type": "code",
   "execution_count": 3,
   "metadata": {},
   "outputs": [],
   "source": [
    "d = data_in()"
   ]
  },
  {
   "cell_type": "code",
   "execution_count": 4,
   "metadata": {},
   "outputs": [],
   "source": [
    "#Create Dictionary Keyed by Meter Number\n",
    "def to_meters(d): \n",
    "    #Get List of Meter Numbers\n",
    "    meters = np.unique(d['Meter Number'].values)\n",
    "    frames_by_meter = {}\n",
    "    for m in meters:\n",
    "        is_meter = d['Meter Number'] == m\n",
    "        frames_by_meter[m] = d[is_meter]\n",
    "    return frames_by_meter"
   ]
  },
  {
   "cell_type": "code",
   "execution_count": 5,
   "metadata": {},
   "outputs": [
    {
     "name": "stdout",
     "output_type": "stream",
     "text": [
      "        Development Name    Borough       Account Name Location Meter AMR  \\\n",
      "30243  THOMAS APARTMENTS  MANHATTAN  THOMAS APARTMENTS   BLD 01       AMR   \n",
      "30244  THOMAS APARTMENTS  MANHATTAN  THOMAS APARTMENTS   BLD 01       AMR   \n",
      "30245  THOMAS APARTMENTS  MANHATTAN  THOMAS APARTMENTS   BLD 01       AMR   \n",
      "30247  THOMAS APARTMENTS  MANHATTAN  THOMAS APARTMENTS   BLD 01       AMR   \n",
      "30248  THOMAS APARTMENTS  MANHATTAN  THOMAS APARTMENTS   BLD 01       AMR   \n",
      "...                  ...        ...                ...      ...       ...   \n",
      "30318  THOMAS APARTMENTS  MANHATTAN  THOMAS APARTMENTS   BLD 01       AMR   \n",
      "30319  THOMAS APARTMENTS  MANHATTAN  THOMAS APARTMENTS   BLD 01       AMR   \n",
      "33607  THOMAS APARTMENTS  MANHATTAN  THOMAS APARTMENTS   BLD 01       AMR   \n",
      "33608  THOMAS APARTMENTS  MANHATTAN  THOMAS APARTMENTS   BLD 01       AMR   \n",
      "33609  THOMAS APARTMENTS  MANHATTAN  THOMAS APARTMENTS   BLD 01       AMR   \n",
      "\n",
      "      Meter Scope  TDS #  EDP  RC Code Funding Source  ... Service End Date  \\\n",
      "30243         NaN  268.0  387  M026800        FEDERAL  ...       05/13/2013   \n",
      "30244         NaN  268.0  387  M026800        FEDERAL  ...       06/13/2013   \n",
      "30245         NaN  268.0  387  M026800        FEDERAL  ...       07/14/2013   \n",
      "30247         NaN  268.0  387  M026800        FEDERAL  ...       09/23/2013   \n",
      "30248         NaN  268.0  387  M026800        FEDERAL  ...       10/23/2013   \n",
      "...           ...    ...  ...      ...            ...  ...              ...   \n",
      "30318         NaN  268.0  387  M026800        FEDERAL  ...       08/22/2019   \n",
      "30319         NaN  268.0  387  M026800        FEDERAL  ...       09/22/2019   \n",
      "33607         NaN  268.0  387  M026800        FEDERAL  ...       02/24/2020   \n",
      "33608         NaN  268.0  387  M026800        FEDERAL  ...       03/23/2020   \n",
      "33609         NaN  268.0  387  M026800        FEDERAL  ...       04/23/2020   \n",
      "\n",
      "      # days  Meter Number Estimated Current Charges             Rate Class  \\\n",
      "30243     29     E10127758         N         4899.30  Basic Water and Sewer   \n",
      "30244     31     E10127758         N         4530.53  Basic Water and Sewer   \n",
      "30245     31     E10127758         N         5005.27  Basic Water and Sewer   \n",
      "30247     33     E10127758         N         4663.92  Basic Water and Sewer   \n",
      "30248     30     E10127758         N         5062.62  Basic Water and Sewer   \n",
      "...      ...           ...       ...             ...                    ...   \n",
      "30318     30     E10127758         N         7884.92  Basic Water and Sewer   \n",
      "30319     31     E10127758         N         8453.29  Basic Water and Sewer   \n",
      "33607     29     E10127758         N         8587.64  Basic Water and Sewer   \n",
      "33608     28     E10127758         N         8184.61  Basic Water and Sewer   \n",
      "33609     31     E10127758         N         9083.67  Basic Water and Sewer   \n",
      "\n",
      "       Bill Analyzed Consumption (HCF) Water&Sewer Charges  Other Charges  \n",
      "30243            Yes               558             4899.30            0.0  \n",
      "30244            Yes               516             4530.53            0.0  \n",
      "30245            Yes               556             5005.27            0.0  \n",
      "30247            Yes               503             4663.92            0.0  \n",
      "30248            Yes               546             5062.62            0.0  \n",
      "...              ...               ...                 ...            ...  \n",
      "30318            Yes               763             7884.92            0.0  \n",
      "30319            Yes               818             8453.29            0.0  \n",
      "33607            Yes               831             8587.64            0.0  \n",
      "33608            Yes               792             8184.61            0.0  \n",
      "33609            Yes               879             9083.67            0.0  \n",
      "\n",
      "[75 rows x 25 columns]\n"
     ]
    }
   ],
   "source": [
    "water_data = to_meters(d)\n",
    "print(water_data['E10127758'])"
   ]
  },
  {
   "cell_type": "code",
   "execution_count": 6,
   "metadata": {},
   "outputs": [],
   "source": [
    "def split_data(series):\n",
    "    l = len(series)\n",
    "    split = (2*l)/3\n",
    "    train = series[0:split]\n",
    "    test = series[split+1:l]\n",
    "    return train, test \n"
   ]
  },
  {
   "cell_type": "code",
   "execution_count": 7,
   "metadata": {},
   "outputs": [],
   "source": [
    "#TO DO: Linear Regression Model (W/ Feature Selection)"
   ]
  },
  {
   "cell_type": "code",
   "execution_count": 8,
   "metadata": {},
   "outputs": [],
   "source": [
    "#TO DO: LSTM (Raw)"
   ]
  },
  {
   "cell_type": "code",
   "execution_count": 9,
   "metadata": {},
   "outputs": [],
   "source": [
    "#TO DO: LSTM (Using only most important Features)"
   ]
  }
 ],
 "metadata": {
  "kernelspec": {
   "display_name": "Python 3",
   "language": "python",
   "name": "python3"
  },
  "language_info": {
   "codemirror_mode": {
    "name": "ipython",
    "version": 3
   },
   "file_extension": ".py",
   "mimetype": "text/x-python",
   "name": "python",
   "nbconvert_exporter": "python",
   "pygments_lexer": "ipython3",
   "version": "3.7.6"
  }
 },
 "nbformat": 4,
 "nbformat_minor": 4
}
